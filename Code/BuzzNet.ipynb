{
 "cells": [
  {
   "cell_type": "markdown",
   "metadata": {
    "id": "UtSSd4j94ywI"
   },
   "source": [
    "# Mosquito Species Classification "
   ]
  },
  {
   "cell_type": "code",
   "execution_count": 1,
   "metadata": {},
   "outputs": [],
   "source": [
    "import tensorflow as tf\n",
    "from tensorflow.keras.layers import Layer\n",
    "from tensorflow.keras import backend as K\n",
    "\n",
    "import numpy as np"
   ]
  },
  {
   "cell_type": "code",
   "execution_count": 2,
   "metadata": {
    "colab": {
     "base_uri": "https://localhost:8080/"
    },
    "id": "6MZi_FqkC1k1",
    "outputId": "a27b2a77-f09a-47f1-dad2-b0ef8cbe883a"
   },
   "outputs": [
    {
     "name": "stdout",
     "output_type": "stream",
     "text": [
      "[[[-0.07296225 -0.09120269 -0.1094432  -0.12768394 -0.14592469\n",
      "   -0.16416506 -0.18240581 -0.20064583 -0.21888669 -0.23712744\n",
      "   -0.25536773 -0.27360845 -0.29184964 -0.310089   -0.32832998\n",
      "   -0.3465707  -0.36481073 -0.3830522  -0.40129223 -0.41953224\n",
      "   -0.4377737  -0.45601374 -0.4742545  -0.49249542 -0.5107359\n",
      "   -0.528976   -0.54721653 -0.5654575  -0.5836975  -0.60193896\n",
      "   -0.62017804 -0.6384197  -0.65666044 -0.6748998  -0.6931415\n",
      "   -0.71138275 -0.729622   -0.74786276 -0.7661021  -0.7843437\n",
      "   -0.802585   -0.82082385 -0.8390651  -0.8573063  -0.87554604\n",
      "   -0.8937873  -0.912028   -0.93026733 -0.9485091  -0.96675026\n",
      "   -0.9849895  -1.0032303  -1.0214715  -1.0397112  -1.0579525 ]\n",
      "  [-0.18536347 -0.23170438 -0.27804497 -0.32438597 -0.3707269\n",
      "   -0.4170677  -0.46340856 -0.5097496  -0.5560905  -0.6024307\n",
      "   -0.6487717  -0.6951127  -0.7414537  -0.78779453 -0.8341353\n",
      "   -0.88047636 -0.9268172  -0.97315794 -1.019499   -1.0658399\n",
      "   -1.1121807  -1.1585219  -1.2048624  -1.2512032  -1.2975444\n",
      "   -1.3438852  -1.3902254  -1.4365671  -1.4829079  -1.5292491\n",
      "   -1.5755898  -1.6219308  -1.6682715  -1.7146124  -1.7609516\n",
      "   -1.8072942  -1.8536351  -1.8999745  -1.9463168  -1.9926556\n",
      "   -2.0389988  -2.0853376  -2.1316788  -2.1780195  -2.2243605\n",
      "   -2.270701   -2.3170428  -2.3633835  -2.4097242  -2.4560652\n",
      "   -2.5024054  -2.548746   -2.5950878  -2.6414287  -2.6877692 ]]]\n"
     ]
    }
   ],
   "source": [
    "class SincConvFast(Layer):\n",
    "\n",
    "\n",
    "    @staticmethod\n",
    "    def hz_to_mel(hz):\n",
    "        return 2595.0 * np.log10(1.0 + hz / 700.0)\n",
    "\n",
    "    @staticmethod\n",
    "    def mel_to_hz(mels):\n",
    "        return 700.0 * (10.0 ** (mels / 2595.0) - 1.0)\n",
    "\n",
    "    def __init__(self, nb_filters, kernel_size, sample_freq,\n",
    "                 stride=1, padding=\"VALID\", min_low_hz=50, min_band_hz=50,\n",
    "                 **kwargs):\n",
    "        super(SincConvFast, self).__init__(**kwargs)\n",
    "\n",
    "        self.nb_filters = nb_filters\n",
    "        self.kernel_size = kernel_size\n",
    "        self.sample_freq = sample_freq\n",
    "        self.stride = stride\n",
    "        self.padding = padding\n",
    "        self.min_low_hz = min_low_hz\n",
    "        self.min_band_hz = min_band_hz\n",
    "\n",
    "        # Force filter size to be odd for later optimizations with symmetry\n",
    "        if kernel_size % 2 == 0:\n",
    "            self.kernel_size = self.kernel_size + 1\n",
    "\n",
    "        # Set trainable parameters\n",
    "        self.low_hz = self.add_weight(\n",
    "            name='low_hz',\n",
    "            shape=(self.nb_filters,),\n",
    "            initializer=\"zeros\",\n",
    "            trainable=True)\n",
    "        self.band_hz = self.add_weight(\n",
    "            name='band_hz',\n",
    "            shape=(self.nb_filters,),\n",
    "            initializer=\"zeros\",\n",
    "            trainable=True)\n",
    "        \n",
    "        # Initialize weights with frequencies of the mel-scale filter-bank\n",
    "        low_freq_mel = self.hz_to_mel(30)\n",
    "        high_freq_mel = self.hz_to_mel(self.sample_freq / 2 - (self.min_low_hz + self.min_band_hz))\n",
    "        mel_points = np.linspace(low_freq_mel, high_freq_mel, num=self.nb_filters + 1)\n",
    "        hz_points = self.mel_to_hz(mel_points)\n",
    "        self.set_weights([hz_points[:-1], np.diff(hz_points)])\n",
    "      \n",
    "        # Determine half of t\n",
    "        t_linspace = np.arange(-(self.kernel_size - 1) / 2, 0)\n",
    "        t = tf.Variable(2 * np.pi * t_linspace / self.sample_freq)\n",
    "        t = tf.cast(t, \"float32\")\n",
    "        self.t = tf.reshape(t, (1, -1))\n",
    "\n",
    "        # Determine half of the hamming window\n",
    "        n = np.linspace(0, (self.kernel_size / 2) - 1, num=int((self.kernel_size / 2)))\n",
    "        window = 0.54 - 0.46 * tf.cos(2 * np.pi * n / self.kernel_size)\n",
    "        window = tf.cast(window, \"float32\")\n",
    "        self.window = tf.Variable(window)\n",
    "\n",
    "    def call(self, X):\n",
    "        low = self.min_low_hz + tf.abs(self.low_hz)\n",
    "        high = tf.clip_by_value(low + self.min_band_hz + tf.abs(self.band_hz), self.min_low_hz, self.sample_freq / 2)\n",
    "        band = high - low\n",
    "\n",
    "        low_times_t = tf.linalg.matmul(tf.reshape(low, (-1, 1)), self.t)\n",
    "        high_times_t = tf.linalg.matmul(tf.reshape(high, (-1, 1)), self.t)\n",
    "\n",
    "        band_pass_left = ((tf.sin(high_times_t) - tf.sin(low_times_t)) / (self.t / 2)) * self.window\n",
    "        band_pass_center = tf.reshape(2 * band, (-1, 1))\n",
    "        band_pass_right = tf.reverse(band_pass_left, [1])\n",
    "\n",
    "        filters = tf.concat([band_pass_left,\n",
    "                             band_pass_center,\n",
    "                             band_pass_right], axis=1)\n",
    "        filters = filters / (2 * band[:, None])\n",
    "\n",
    "        # TF convolution assumes data is stored as NWC\n",
    "        filters = tf.transpose(filters)\n",
    "        filters = tf.reshape(filters, (self.kernel_size, 1, self.nb_filters))\n",
    "\n",
    "        return tf.nn.conv1d(X, filters, self.stride, self.padding)\n",
    "\n",
    "    def compute_output_shape(self, input_shape):\n",
    "        out_width_size = conv_utils.conv_output_length(\n",
    "            input_shape[1],\n",
    "            self.kernel_size,\n",
    "            padding=\"valid\",\n",
    "            stride=1,\n",
    "            dilation=1)\n",
    "        return (input_shape[0], out_width_size, self.nb_filters)\n",
    "\n",
    "\n",
    "X = np.arange(63, dtype=np.single).reshape((1, 63, 1))\n",
    "sinc_layer = SincConvFast(2, 9, 400)\n",
    "y = sinc_layer(X)\n",
    "\n",
    "print(y.numpy().transpose(0, 2, 1))"
   ]
  },
  {
   "cell_type": "markdown",
   "metadata": {
    "id": "GRH6HmKrJO2g"
   },
   "source": [
    "## Load dataset "
   ]
  },
  {
   "cell_type": "code",
   "execution_count": 3,
   "metadata": {
    "colab": {
     "base_uri": "https://localhost:8080/"
    },
    "id": "nnsfZXUan9NL",
    "outputId": "1323fc59-ffac-46c3-bd1c-468e4c493d86"
   },
   "outputs": [
    {
     "name": "stdout",
     "output_type": "stream",
     "text": [
      "Input length: 800 (10.0s)\n",
      "Input shape: (128, 800)\n"
     ]
    }
   ],
   "source": [
    "sample_frequency = 8000 \n",
    "frame_size = 0.1       \n",
    "frame_stride = 0.01      \n",
    "max_num_frames = 100\n",
    "\n",
    "frame_length = int(round(frame_size * sample_frequency))\n",
    "frame_step = int(round(frame_stride * sample_frequency))\n",
    "\n",
    "batch_size = 128\n",
    "classes = 4\n",
    "\n",
    "print(\"Input length: {} ({}s)\".format(frame_length, frame_size * max_num_frames))\n",
    "print(\"Input shape: {}\".format((batch_size, frame_length)))"
   ]
  },
  {
   "cell_type": "markdown",
   "metadata": {
    "id": "LH6iTlsLJDCv"
   },
   "source": [
    "#### Create Audio generator"
   ]
  },
  {
   "cell_type": "code",
   "execution_count": 4,
   "metadata": {
    "id": "O3vqAZPEKJAB"
   },
   "outputs": [],
   "source": [
    "from keras.utils import Sequence\n",
    "from sklearn.utils import shuffle\n",
    "from sklearn.model_selection import train_test_split\n",
    "import soundfile as sf\n",
    "import glob\n",
    "\n",
    "def get_frames_indices(filename):\n",
    "    signal, fs = sf.read(filename)\n",
    "\n",
    "    # Determine number of frames\n",
    "    signal_length = len(signal)\n",
    "    assert signal_length > frame_length\n",
    "    num_frames = int(np.floor((signal_length - frame_length) / frame_step))\n",
    "\n",
    "    # Limit the number of frames\n",
    "    num_frames = min(num_frames, max_num_frames)\n",
    "\n",
    "    return np.arange(0, num_frames * frame_step, frame_step)\n",
    "\n",
    "def load_dataset(data_folder, max_species=8):\n",
    "    X = []\n",
    "    y = []\n",
    "\n",
    "    files = glob.glob(data_folder)\n",
    "     \n",
    "    \n",
    "    for species_id in range(min(max_species, len(files))):  \n",
    "        \n",
    "        species_files = glob.glob(files[species_id] + '/*') \n",
    "                \n",
    "        for audio_id in range(len(species_files)):\n",
    "            \n",
    "            filename = species_files[audio_id]\n",
    "            \n",
    "            frames = get_frames_indices(filename)\n",
    "                       \n",
    "            for frame in frames:\n",
    "                X.append([filename, frame])\n",
    "                y.append(species_id)\n",
    "\n",
    "    return X, y\n",
    "\n",
    "class AudioGenerator(Sequence):\n",
    "\n",
    "    def __init__(self, X, y, batch_size):\n",
    "        self.X = X\n",
    "        self.y = y\n",
    "        self.batch_size = batch_size\n",
    "        self.shape = (batch_size, frame_length, 1)\n",
    "\n",
    "    def __len__(self):\n",
    "        nb_batches = len(self.y) / float(self.batch_size)\n",
    "        return np.ceil(nb_batches).astype(int)\n",
    "\n",
    "    def __getitem__(self, batch_id):\n",
    "        X_batch = np.zeros((self.batch_size, frame_length, 1))\n",
    "        y_batch = np.zeros(self.batch_size)\n",
    "\n",
    "        for i in range(self.batch_size):\n",
    "            id = batch_id * self.batch_size + i\n",
    "            if id >= len(self.y):\n",
    "                id = np.random.randint(0, len(self.y))\n",
    "\n",
    "            path, frame = self.X[id]\n",
    "            signal, fs = sf.read(path)\n",
    "\n",
    "            X_batch[i, :, 0] = signal[frame:frame+frame_length]\n",
    "            y_batch[i] = self.y[id]\n",
    "\n",
    "        return X_batch, y_batch"
   ]
  },
  {
   "cell_type": "code",
   "execution_count": 5,
   "metadata": {},
   "outputs": [],
   "source": [
    "X_, y_ = load_dataset(\"D:/buzzNet/data/species/*\", max_species=classes)"
   ]
  },
  {
   "cell_type": "code",
   "execution_count": 6,
   "metadata": {},
   "outputs": [],
   "source": [
    "X_train, X_temp, y_train, y_temp = train_test_split(X_, y_, test_size=0.30, random_state=42)\n",
    "X_val, X_test, y_val, y_test = train_test_split(X_temp, y_temp, test_size=0.5, random_state=42)"
   ]
  },
  {
   "cell_type": "code",
   "execution_count": 7,
   "metadata": {},
   "outputs": [
    {
     "name": "stdout",
     "output_type": "stream",
     "text": [
      "Size of X_train is: (30940, 2)\n",
      "Size of y_train is: (30940,)\n",
      "Size of X_val is: (6630, 2)\n",
      "Size of y_val is: (6630,)\n",
      "Size of X_test is: (6630, 2)\n",
      "Size of y_test is: (6630,)\n"
     ]
    }
   ],
   "source": [
    "print(\"Size of X_train is:\",np.shape(X_train))\n",
    "print(\"Size of y_train is:\",np.shape(y_train))\n",
    "print(\"Size of X_val is:\",np.shape(X_val))\n",
    "print(\"Size of y_val is:\",np.shape(y_val))\n",
    "print(\"Size of X_test is:\",np.shape(X_test))\n",
    "print(\"Size of y_test is:\",np.shape(y_test))"
   ]
  },
  {
   "cell_type": "code",
   "execution_count": 8,
   "metadata": {
    "id": "2KyP6gcCj3X3"
   },
   "outputs": [],
   "source": [
    "train_gen = AudioGenerator(X_train, y_train, batch_size)\n",
    "val_gen = AudioGenerator(X_val, y_val, batch_size)\n",
    "test_gen = AudioGenerator(X_test, y_test, batch_size)"
   ]
  },
  {
   "cell_type": "code",
   "execution_count": 9,
   "metadata": {
    "colab": {
     "base_uri": "https://localhost:8080/"
    },
    "id": "eI7B6INuXX_0",
    "outputId": "04ebdf93-b919-4adb-b3d8-e335dd996c59"
   },
   "outputs": [
    {
     "name": "stdout",
     "output_type": "stream",
     "text": [
      "Number of training batches: 242\n",
      "Number of validation batches: 52\n",
      "Number of validation batches: 52\n"
     ]
    }
   ],
   "source": [
    "print(\"Number of training batches:\", len(train_gen))\n",
    "print(\"Number of validation batches:\", len(val_gen))\n",
    "print(\"Number of validation batches:\", len(test_gen))"
   ]
  },
  {
   "cell_type": "markdown",
   "metadata": {
    "id": "JR8VsZs7JXk3"
   },
   "source": [
    "### Create model"
   ]
  },
  {
   "cell_type": "code",
   "execution_count": 10,
   "metadata": {
    "id": "PM4SSnAUHOwg"
   },
   "outputs": [],
   "source": [
    "from tensorflow import keras\n",
    "from tensorflow.keras import regularizers\n",
    "from tensorflow.keras.models import Sequential\n",
    "from tensorflow.keras.layers import Dense, Conv1D, MaxPooling1D, BatchNormalization, LeakyReLU, Flatten, LayerNormalization, Dropout, LSTM\n",
    "from tensorflow.keras.regularizers import l2\n",
    "from tensorflow.keras.optimizers import RMSprop\n",
    "from tensorflow.keras.callbacks import ModelCheckpoint\n",
    "from tensorflow.keras.metrics import AUC, Precision, Recall, FalsePositives, FalseNegatives, Accuracy"
   ]
  },
  {
   "cell_type": "code",
   "execution_count": 11,
   "metadata": {
    "id": "gWDFw2Zj-tV4"
   },
   "outputs": [],
   "source": [
    "def create_buzznet(enable_sincconv=True):\n",
    "    model = Sequential()\n",
    "\n",
    "    \n",
    "    if (enable_sincconv):\n",
    "        model.add(SincConvFast(256, 64, sample_frequency, input_shape=(frame_length, 1)))\n",
    "    else:\n",
    "        model.add(Conv1D(filters=256, kernel_size=64, input_shape=(frame_length, 1)))\n",
    "    model.add(MaxPooling1D(pool_size=3))\n",
    "    model.add(LayerNormalization())\n",
    "    model.add(LeakyReLU(alpha=0.2))\n",
    "\n",
    "    model.add(Conv1D(filters=128, kernel_size=32)) \n",
    "    model.add(MaxPooling1D(pool_size=3))\n",
    "    model.add(LayerNormalization())\n",
    "    model.add(LeakyReLU(alpha=0.2))\n",
    "    \n",
    "    model.add(Conv1D(filters=64, kernel_size=16)) \n",
    "    model.add(MaxPooling1D(pool_size=3))\n",
    "    model.add(LayerNormalization())\n",
    "    model.add(LeakyReLU(alpha=0.2))\n",
    "    \n",
    "    model.add(LSTM(32, return_sequences=True))\n",
    "  \n",
    "    model.add(Flatten())   \n",
    "    model.add(LayerNormalization())   \n",
    "       \n",
    "    model.add(Dense(256, activation=LeakyReLU(alpha=0.2), kernel_regularizer=regularizers.l2(0.3)))    \n",
    "    model.add(BatchNormalization(momentum=0.05))   \n",
    "    model.add(LeakyReLU(alpha=0.2))   \n",
    "    model.add(Dropout(0.30))   \n",
    "\n",
    "    model.add(Dense(128, activation=LeakyReLU(alpha=0.2), kernel_regularizer=regularizers.l2(0.3)))   \n",
    "    model.add(BatchNormalization(momentum=0.05))\n",
    "    model.add(LeakyReLU(name='layer_features', alpha=0.2))\n",
    "    model.add(Dropout(0.30))\n",
    "\n",
    "    model.add(Dense(classes, activation='softmax'))    \n",
    "\n",
    "    return model\n",
    "\n",
    "buzznet_model = create_buzznet()"
   ]
  },
  {
   "cell_type": "code",
   "execution_count": 12,
   "metadata": {
    "colab": {
     "base_uri": "https://localhost:8080/"
    },
    "id": "dYmtV2l1BkhG",
    "outputId": "634d58c2-a5f5-42c0-b9ef-24b95c0f5840"
   },
   "outputs": [
    {
     "name": "stdout",
     "output_type": "stream",
     "text": [
      "Model: \"sequential\"\n",
      "_________________________________________________________________\n",
      " Layer (type)                Output Shape              Param #   \n",
      "=================================================================\n",
      " sinc_conv_fast_1 (SincConvF  (None, 736, 256)         544       \n",
      " ast)                                                            \n",
      "                                                                 \n",
      " max_pooling1d (MaxPooling1D  (None, 245, 256)         0         \n",
      " )                                                               \n",
      "                                                                 \n",
      " layer_normalization (LayerN  (None, 245, 256)         512       \n",
      " ormalization)                                                   \n",
      "                                                                 \n",
      " leaky_re_lu (LeakyReLU)     (None, 245, 256)          0         \n",
      "                                                                 \n",
      " conv1d (Conv1D)             (None, 214, 128)          1048704   \n",
      "                                                                 \n",
      " max_pooling1d_1 (MaxPooling  (None, 71, 128)          0         \n",
      " 1D)                                                             \n",
      "                                                                 \n",
      " layer_normalization_1 (Laye  (None, 71, 128)          256       \n",
      " rNormalization)                                                 \n",
      "                                                                 \n",
      " leaky_re_lu_1 (LeakyReLU)   (None, 71, 128)           0         \n",
      "                                                                 \n",
      " conv1d_1 (Conv1D)           (None, 56, 64)            131136    \n",
      "                                                                 \n",
      " max_pooling1d_2 (MaxPooling  (None, 18, 64)           0         \n",
      " 1D)                                                             \n",
      "                                                                 \n",
      " layer_normalization_2 (Laye  (None, 18, 64)           128       \n",
      " rNormalization)                                                 \n",
      "                                                                 \n",
      " leaky_re_lu_2 (LeakyReLU)   (None, 18, 64)            0         \n",
      "                                                                 \n",
      " lstm (LSTM)                 (None, 18, 32)            12416     \n",
      "                                                                 \n",
      " flatten (Flatten)           (None, 576)               0         \n",
      "                                                                 \n",
      " layer_normalization_3 (Laye  (None, 576)              1152      \n",
      " rNormalization)                                                 \n",
      "                                                                 \n",
      " dense (Dense)               (None, 256)               147712    \n",
      "                                                                 \n",
      " batch_normalization (BatchN  (None, 256)              1024      \n",
      " ormalization)                                                   \n",
      "                                                                 \n",
      " leaky_re_lu_4 (LeakyReLU)   (None, 256)               0         \n",
      "                                                                 \n",
      " dropout (Dropout)           (None, 256)               0         \n",
      "                                                                 \n",
      " dense_1 (Dense)             (None, 128)               32896     \n",
      "                                                                 \n",
      " batch_normalization_1 (Batc  (None, 128)              512       \n",
      " hNormalization)                                                 \n",
      "                                                                 \n",
      " layer_features (LeakyReLU)  (None, 128)               0         \n",
      "                                                                 \n",
      " dropout_1 (Dropout)         (None, 128)               0         \n",
      "                                                                 \n",
      " dense_2 (Dense)             (None, 4)                 516       \n",
      "                                                                 \n",
      "=================================================================\n",
      "Total params: 1,377,508\n",
      "Trainable params: 1,376,740\n",
      "Non-trainable params: 768\n",
      "_________________________________________________________________\n"
     ]
    }
   ],
   "source": [
    "buzznet_model.summary()"
   ]
  },
  {
   "cell_type": "markdown",
   "metadata": {
    "id": "f7gwrKJxJao5"
   },
   "source": [
    "### Train model"
   ]
  },
  {
   "cell_type": "code",
   "execution_count": 13,
   "metadata": {},
   "outputs": [],
   "source": [
    "buzznet_model.compile(optimizer=RMSprop(learning_rate=0.001),\n",
    "                      loss='sparse_categorical_crossentropy',\n",
    "                      metrics=['accuracy'])"
   ]
  },
  {
   "cell_type": "code",
   "execution_count": 14,
   "metadata": {
    "scrolled": true
   },
   "outputs": [
    {
     "name": "stdout",
     "output_type": "stream",
     "text": [
      "Epoch 1/100\n",
      "242/242 [==============================] - ETA: 0s - loss: 16.4887 - accuracy: 0.3321\n",
      "Epoch 1: val_loss improved from inf to 2.88054, saving model to ./checkpoints\\training-0001.ckpt\n",
      "242/242 [==============================] - 61s 233ms/step - loss: 16.4887 - accuracy: 0.3321 - val_loss: 2.8805 - val_accuracy: 0.3603\n",
      "Epoch 2/100\n",
      "242/242 [==============================] - ETA: 0s - loss: 1.4432 - accuracy: 0.3964\n",
      "Epoch 2: val_loss improved from 2.88054 to 1.72867, saving model to ./checkpoints\\training-0002.ckpt\n",
      "242/242 [==============================] - 56s 233ms/step - loss: 1.4432 - accuracy: 0.3964 - val_loss: 1.7287 - val_accuracy: 0.3157\n",
      "Epoch 3/100\n",
      "242/242 [==============================] - ETA: 0s - loss: 1.3422 - accuracy: 0.4386\n",
      "Epoch 3: val_loss improved from 1.72867 to 1.41871, saving model to ./checkpoints\\training-0003.ckpt\n",
      "242/242 [==============================] - 56s 231ms/step - loss: 1.3422 - accuracy: 0.4386 - val_loss: 1.4187 - val_accuracy: 0.3717\n",
      "Epoch 4/100\n",
      "242/242 [==============================] - ETA: 0s - loss: 1.2858 - accuracy: 0.4640\n",
      "Epoch 4: val_loss improved from 1.41871 to 1.35917, saving model to ./checkpoints\\training-0004.ckpt\n",
      "242/242 [==============================] - 57s 236ms/step - loss: 1.2858 - accuracy: 0.4640 - val_loss: 1.3592 - val_accuracy: 0.4124\n",
      "Epoch 5/100\n",
      "242/242 [==============================] - ETA: 0s - loss: 1.2494 - accuracy: 0.4816\n",
      "Epoch 5: val_loss did not improve from 1.35917\n",
      "242/242 [==============================] - 55s 229ms/step - loss: 1.2494 - accuracy: 0.4816 - val_loss: 1.7463 - val_accuracy: 0.3950\n",
      "Epoch 6/100\n",
      "242/242 [==============================] - ETA: 0s - loss: 1.2240 - accuracy: 0.4968\n",
      "Epoch 6: val_loss did not improve from 1.35917\n",
      "242/242 [==============================] - 56s 231ms/step - loss: 1.2240 - accuracy: 0.4968 - val_loss: 4.3364 - val_accuracy: 0.3292\n",
      "Epoch 7/100\n",
      "242/242 [==============================] - ETA: 0s - loss: 1.1940 - accuracy: 0.5164\n",
      "Epoch 7: val_loss did not improve from 1.35917\n",
      "242/242 [==============================] - 56s 231ms/step - loss: 1.1940 - accuracy: 0.5164 - val_loss: 1.4781 - val_accuracy: 0.4364\n",
      "Epoch 8/100\n",
      "242/242 [==============================] - ETA: 0s - loss: 1.1622 - accuracy: 0.5341\n",
      "Epoch 8: val_loss improved from 1.35917 to 1.13705, saving model to ./checkpoints\\training-0008.ckpt\n",
      "242/242 [==============================] - 56s 231ms/step - loss: 1.1622 - accuracy: 0.5341 - val_loss: 1.1370 - val_accuracy: 0.5556\n",
      "Epoch 9/100\n",
      "242/242 [==============================] - ETA: 0s - loss: 1.1375 - accuracy: 0.5455\n",
      "Epoch 9: val_loss did not improve from 1.13705\n",
      "242/242 [==============================] - 57s 233ms/step - loss: 1.1375 - accuracy: 0.5455 - val_loss: 1.1484 - val_accuracy: 0.5457\n",
      "Epoch 10/100\n",
      "242/242 [==============================] - ETA: 0s - loss: 1.1121 - accuracy: 0.5569\n",
      "Epoch 10: val_loss did not improve from 1.13705\n",
      "242/242 [==============================] - 56s 232ms/step - loss: 1.1121 - accuracy: 0.5569 - val_loss: 1.3324 - val_accuracy: 0.4928\n",
      "Epoch 11/100\n",
      "242/242 [==============================] - ETA: 0s - loss: 1.0913 - accuracy: 0.5637\n",
      "Epoch 11: val_loss did not improve from 1.13705\n",
      "242/242 [==============================] - 55s 228ms/step - loss: 1.0913 - accuracy: 0.5637 - val_loss: 1.2854 - val_accuracy: 0.5461\n",
      "Epoch 12/100\n",
      "242/242 [==============================] - ETA: 0s - loss: 1.0647 - accuracy: 0.5752\n",
      "Epoch 12: val_loss improved from 1.13705 to 1.09233, saving model to ./checkpoints\\training-0012.ckpt\n",
      "242/242 [==============================] - 54s 224ms/step - loss: 1.0647 - accuracy: 0.5752 - val_loss: 1.0923 - val_accuracy: 0.5658\n",
      "Epoch 13/100\n",
      "242/242 [==============================] - ETA: 0s - loss: 1.0390 - accuracy: 0.5864\n",
      "Epoch 13: val_loss did not improve from 1.09233\n",
      "242/242 [==============================] - 54s 223ms/step - loss: 1.0390 - accuracy: 0.5864 - val_loss: 1.5209 - val_accuracy: 0.4292\n",
      "Epoch 14/100\n",
      "242/242 [==============================] - ETA: 0s - loss: 1.0120 - accuracy: 0.6008\n",
      "Epoch 14: val_loss did not improve from 1.09233\n",
      "242/242 [==============================] - 54s 224ms/step - loss: 1.0120 - accuracy: 0.6008 - val_loss: 1.5469 - val_accuracy: 0.4675\n",
      "Epoch 15/100\n",
      "242/242 [==============================] - ETA: 0s - loss: 0.9867 - accuracy: 0.6123\n",
      "Epoch 15: val_loss did not improve from 1.09233\n",
      "242/242 [==============================] - 54s 224ms/step - loss: 0.9867 - accuracy: 0.6123 - val_loss: 1.5753 - val_accuracy: 0.5080\n",
      "Epoch 16/100\n",
      "242/242 [==============================] - ETA: 0s - loss: 0.9669 - accuracy: 0.6219\n",
      "Epoch 16: val_loss did not improve from 1.09233\n",
      "242/242 [==============================] - 54s 223ms/step - loss: 0.9669 - accuracy: 0.6219 - val_loss: 1.7350 - val_accuracy: 0.4965\n",
      "Epoch 17/100\n",
      "242/242 [==============================] - ETA: 0s - loss: 0.9418 - accuracy: 0.6317\n",
      "Epoch 17: val_loss did not improve from 1.09233\n",
      "242/242 [==============================] - 54s 224ms/step - loss: 0.9418 - accuracy: 0.6317 - val_loss: 1.4007 - val_accuracy: 0.5628\n",
      "Epoch 18/100\n",
      "242/242 [==============================] - ETA: 0s - loss: 0.9227 - accuracy: 0.6421\n",
      "Epoch 18: val_loss improved from 1.09233 to 1.04880, saving model to ./checkpoints\\training-0018.ckpt\n",
      "242/242 [==============================] - 54s 224ms/step - loss: 0.9227 - accuracy: 0.6421 - val_loss: 1.0488 - val_accuracy: 0.5667\n",
      "Epoch 19/100\n",
      "242/242 [==============================] - ETA: 0s - loss: 0.8975 - accuracy: 0.6520\n",
      "Epoch 19: val_loss did not improve from 1.04880\n",
      "242/242 [==============================] - 54s 224ms/step - loss: 0.8975 - accuracy: 0.6520 - val_loss: 1.1972 - val_accuracy: 0.5984\n",
      "Epoch 20/100\n",
      "242/242 [==============================] - ETA: 0s - loss: 0.8699 - accuracy: 0.6664\n",
      "Epoch 20: val_loss did not improve from 1.04880\n",
      "242/242 [==============================] - 54s 223ms/step - loss: 0.8699 - accuracy: 0.6664 - val_loss: 1.7001 - val_accuracy: 0.5748\n",
      "Epoch 21/100\n",
      "242/242 [==============================] - ETA: 0s - loss: 0.8554 - accuracy: 0.6695\n",
      "Epoch 21: val_loss did not improve from 1.04880\n",
      "242/242 [==============================] - 54s 224ms/step - loss: 0.8554 - accuracy: 0.6695 - val_loss: 1.5207 - val_accuracy: 0.5682\n",
      "Epoch 22/100\n",
      "242/242 [==============================] - ETA: 0s - loss: 0.8267 - accuracy: 0.6834\n",
      "Epoch 22: val_loss improved from 1.04880 to 0.93537, saving model to ./checkpoints\\training-0022.ckpt\n",
      "242/242 [==============================] - 54s 224ms/step - loss: 0.8267 - accuracy: 0.6834 - val_loss: 0.9354 - val_accuracy: 0.6360\n",
      "Epoch 23/100\n",
      "242/242 [==============================] - ETA: 0s - loss: 0.7995 - accuracy: 0.6935\n",
      "Epoch 23: val_loss improved from 0.93537 to 0.88531, saving model to ./checkpoints\\training-0023.ckpt\n",
      "242/242 [==============================] - 54s 223ms/step - loss: 0.7995 - accuracy: 0.6935 - val_loss: 0.8853 - val_accuracy: 0.6522\n",
      "Epoch 24/100\n",
      "242/242 [==============================] - ETA: 0s - loss: 0.7751 - accuracy: 0.7028\n",
      "Epoch 24: val_loss did not improve from 0.88531\n",
      "242/242 [==============================] - 54s 221ms/step - loss: 0.7751 - accuracy: 0.7028 - val_loss: 1.4312 - val_accuracy: 0.5015\n",
      "Epoch 25/100\n",
      "242/242 [==============================] - ETA: 0s - loss: 0.7513 - accuracy: 0.7117\n",
      "Epoch 25: val_loss did not improve from 0.88531\n",
      "242/242 [==============================] - 54s 221ms/step - loss: 0.7513 - accuracy: 0.7117 - val_loss: 1.1709 - val_accuracy: 0.5947\n",
      "Epoch 26/100\n",
      "242/242 [==============================] - ETA: 0s - loss: 0.7310 - accuracy: 0.7242\n",
      "Epoch 26: val_loss did not improve from 0.88531\n",
      "242/242 [==============================] - 54s 221ms/step - loss: 0.7310 - accuracy: 0.7242 - val_loss: 1.0117 - val_accuracy: 0.5876\n",
      "Epoch 27/100\n",
      "242/242 [==============================] - ETA: 0s - loss: 0.7046 - accuracy: 0.7342\n",
      "Epoch 27: val_loss did not improve from 0.88531\n",
      "242/242 [==============================] - 54s 222ms/step - loss: 0.7046 - accuracy: 0.7342 - val_loss: 0.9861 - val_accuracy: 0.6397\n",
      "Epoch 28/100\n",
      "242/242 [==============================] - ETA: 0s - loss: 0.6884 - accuracy: 0.7453\n",
      "Epoch 28: val_loss did not improve from 0.88531\n",
      "242/242 [==============================] - 56s 229ms/step - loss: 0.6884 - accuracy: 0.7453 - val_loss: 1.3000 - val_accuracy: 0.6426\n",
      "Epoch 29/100\n",
      "242/242 [==============================] - ETA: 0s - loss: 0.6575 - accuracy: 0.7581\n",
      "Epoch 29: val_loss improved from 0.88531 to 0.69059, saving model to ./checkpoints\\training-0029.ckpt\n",
      "242/242 [==============================] - 56s 230ms/step - loss: 0.6575 - accuracy: 0.7581 - val_loss: 0.6906 - val_accuracy: 0.7333\n",
      "Epoch 30/100\n",
      "242/242 [==============================] - ETA: 0s - loss: 0.6335 - accuracy: 0.7669\n",
      "Epoch 30: val_loss did not improve from 0.69059\n",
      "242/242 [==============================] - 56s 230ms/step - loss: 0.6335 - accuracy: 0.7669 - val_loss: 0.7578 - val_accuracy: 0.7172\n",
      "Epoch 31/100\n",
      "242/242 [==============================] - ETA: 0s - loss: 0.6116 - accuracy: 0.7781\n",
      "Epoch 31: val_loss improved from 0.69059 to 0.67114, saving model to ./checkpoints\\training-0031.ckpt\n",
      "242/242 [==============================] - 56s 230ms/step - loss: 0.6116 - accuracy: 0.7781 - val_loss: 0.6711 - val_accuracy: 0.7494\n",
      "Epoch 32/100\n",
      "242/242 [==============================] - ETA: 0s - loss: 0.5963 - accuracy: 0.7810\n",
      "Epoch 32: val_loss improved from 0.67114 to 0.66200, saving model to ./checkpoints\\training-0032.ckpt\n",
      "242/242 [==============================] - 54s 223ms/step - loss: 0.5963 - accuracy: 0.7810 - val_loss: 0.6620 - val_accuracy: 0.7638\n",
      "Epoch 33/100\n",
      "242/242 [==============================] - ETA: 0s - loss: 0.5761 - accuracy: 0.7916\n",
      "Epoch 33: val_loss did not improve from 0.66200\n",
      "242/242 [==============================] - 56s 229ms/step - loss: 0.5761 - accuracy: 0.7916 - val_loss: 0.7290 - val_accuracy: 0.7557\n",
      "Epoch 34/100\n",
      "242/242 [==============================] - ETA: 0s - loss: 0.5520 - accuracy: 0.8055\n",
      "Epoch 34: val_loss did not improve from 0.66200\n",
      "242/242 [==============================] - 56s 231ms/step - loss: 0.5520 - accuracy: 0.8055 - val_loss: 0.6629 - val_accuracy: 0.7550\n",
      "Epoch 35/100\n",
      "242/242 [==============================] - ETA: 0s - loss: 0.5325 - accuracy: 0.8137\n",
      "Epoch 35: val_loss improved from 0.66200 to 0.57715, saving model to ./checkpoints\\training-0035.ckpt\n",
      "242/242 [==============================] - 56s 230ms/step - loss: 0.5325 - accuracy: 0.8137 - val_loss: 0.5772 - val_accuracy: 0.7879\n",
      "Epoch 36/100\n",
      "242/242 [==============================] - ETA: 0s - loss: 0.5117 - accuracy: 0.8240\n",
      "Epoch 36: val_loss did not improve from 0.57715\n",
      "242/242 [==============================] - 56s 230ms/step - loss: 0.5117 - accuracy: 0.8240 - val_loss: 0.6923 - val_accuracy: 0.7426\n",
      "Epoch 37/100\n",
      "242/242 [==============================] - ETA: 0s - loss: 0.4916 - accuracy: 0.8296\n",
      "Epoch 37: val_loss did not improve from 0.57715\n",
      "242/242 [==============================] - 56s 229ms/step - loss: 0.4916 - accuracy: 0.8296 - val_loss: 0.6194 - val_accuracy: 0.7665\n",
      "Epoch 38/100\n",
      "242/242 [==============================] - ETA: 0s - loss: 0.4767 - accuracy: 0.8397\n",
      "Epoch 38: val_loss improved from 0.57715 to 0.53393, saving model to ./checkpoints\\training-0038.ckpt\n",
      "242/242 [==============================] - 56s 231ms/step - loss: 0.4767 - accuracy: 0.8397 - val_loss: 0.5339 - val_accuracy: 0.8047\n",
      "Epoch 39/100\n",
      "242/242 [==============================] - ETA: 0s - loss: 0.4572 - accuracy: 0.8441\n",
      "Epoch 39: val_loss did not improve from 0.53393\n",
      "242/242 [==============================] - 56s 230ms/step - loss: 0.4572 - accuracy: 0.8441 - val_loss: 0.5982 - val_accuracy: 0.8017\n",
      "Epoch 40/100\n",
      "242/242 [==============================] - ETA: 0s - loss: 0.4463 - accuracy: 0.8523\n",
      "Epoch 40: val_loss improved from 0.53393 to 0.48002, saving model to ./checkpoints\\training-0040.ckpt\n",
      "242/242 [==============================] - 56s 230ms/step - loss: 0.4463 - accuracy: 0.8523 - val_loss: 0.4800 - val_accuracy: 0.8355\n",
      "Epoch 41/100\n",
      "242/242 [==============================] - ETA: 0s - loss: 0.4251 - accuracy: 0.8576\n",
      "Epoch 41: val_loss did not improve from 0.48002\n",
      "242/242 [==============================] - 54s 221ms/step - loss: 0.4251 - accuracy: 0.8576 - val_loss: 0.5412 - val_accuracy: 0.8194\n",
      "Epoch 42/100\n",
      "242/242 [==============================] - ETA: 0s - loss: 0.4126 - accuracy: 0.8654\n",
      "Epoch 42: val_loss improved from 0.48002 to 0.45193, saving model to ./checkpoints\\training-0042.ckpt\n",
      "242/242 [==============================] - 56s 230ms/step - loss: 0.4126 - accuracy: 0.8654 - val_loss: 0.4519 - val_accuracy: 0.8424\n",
      "Epoch 43/100\n",
      "242/242 [==============================] - ETA: 0s - loss: 0.3970 - accuracy: 0.8696\n",
      "Epoch 43: val_loss improved from 0.45193 to 0.45115, saving model to ./checkpoints\\training-0043.ckpt\n",
      "242/242 [==============================] - 56s 230ms/step - loss: 0.3970 - accuracy: 0.8696 - val_loss: 0.4511 - val_accuracy: 0.8519\n",
      "Epoch 44/100\n",
      "242/242 [==============================] - ETA: 0s - loss: 0.3835 - accuracy: 0.8749\n",
      "Epoch 44: val_loss did not improve from 0.45115\n",
      "242/242 [==============================] - 54s 222ms/step - loss: 0.3835 - accuracy: 0.8749 - val_loss: 0.5236 - val_accuracy: 0.8227\n",
      "Epoch 45/100\n",
      "242/242 [==============================] - ETA: 0s - loss: 0.3739 - accuracy: 0.8792\n",
      "Epoch 45: val_loss improved from 0.45115 to 0.43635, saving model to ./checkpoints\\training-0045.ckpt\n",
      "242/242 [==============================] - 55s 227ms/step - loss: 0.3739 - accuracy: 0.8792 - val_loss: 0.4364 - val_accuracy: 0.8546\n",
      "Epoch 46/100\n",
      "242/242 [==============================] - ETA: 0s - loss: 0.3596 - accuracy: 0.8831\n",
      "Epoch 46: val_loss did not improve from 0.43635\n",
      "242/242 [==============================] - 56s 229ms/step - loss: 0.3596 - accuracy: 0.8831 - val_loss: 0.4878 - val_accuracy: 0.8451\n",
      "Epoch 47/100\n",
      "242/242 [==============================] - ETA: 0s - loss: 0.3491 - accuracy: 0.8881\n",
      "Epoch 47: val_loss did not improve from 0.43635\n",
      "242/242 [==============================] - 56s 229ms/step - loss: 0.3491 - accuracy: 0.8881 - val_loss: 0.4562 - val_accuracy: 0.8517\n",
      "Epoch 48/100\n",
      "242/242 [==============================] - ETA: 0s - loss: 0.3395 - accuracy: 0.8932\n",
      "Epoch 48: val_loss did not improve from 0.43635\n",
      "242/242 [==============================] - 56s 230ms/step - loss: 0.3395 - accuracy: 0.8932 - val_loss: 0.5467 - val_accuracy: 0.8169\n",
      "Epoch 49/100\n",
      "242/242 [==============================] - ETA: 0s - loss: 0.3257 - accuracy: 0.8983\n",
      "Epoch 49: val_loss did not improve from 0.43635\n",
      "242/242 [==============================] - 56s 229ms/step - loss: 0.3257 - accuracy: 0.8983 - val_loss: 0.5890 - val_accuracy: 0.8266\n",
      "Epoch 50/100\n",
      "242/242 [==============================] - ETA: 0s - loss: 0.3211 - accuracy: 0.9006\n",
      "Epoch 50: val_loss did not improve from 0.43635\n",
      "242/242 [==============================] - 56s 230ms/step - loss: 0.3211 - accuracy: 0.9006 - val_loss: 0.8014 - val_accuracy: 0.7752\n",
      "Epoch 51/100\n",
      "242/242 [==============================] - ETA: 0s - loss: 0.3207 - accuracy: 0.9031\n",
      "Epoch 51: val_loss did not improve from 0.43635\n",
      "242/242 [==============================] - 56s 230ms/step - loss: 0.3207 - accuracy: 0.9031 - val_loss: 0.6949 - val_accuracy: 0.7921\n",
      "Epoch 52/100\n",
      "242/242 [==============================] - ETA: 0s - loss: 0.2983 - accuracy: 0.9088\n",
      "Epoch 52: val_loss did not improve from 0.43635\n",
      "242/242 [==============================] - 56s 229ms/step - loss: 0.2983 - accuracy: 0.9088 - val_loss: 0.5550 - val_accuracy: 0.8242\n",
      "Epoch 53/100\n",
      "242/242 [==============================] - ETA: 0s - loss: 0.2983 - accuracy: 0.9088\n",
      "Epoch 53: val_loss did not improve from 0.43635\n",
      "242/242 [==============================] - 56s 229ms/step - loss: 0.2983 - accuracy: 0.9088 - val_loss: 0.5328 - val_accuracy: 0.8389\n",
      "Epoch 54/100\n",
      "242/242 [==============================] - ETA: 0s - loss: 0.2871 - accuracy: 0.9135\n",
      "Epoch 54: val_loss did not improve from 0.43635\n",
      "242/242 [==============================] - 56s 230ms/step - loss: 0.2871 - accuracy: 0.9135 - val_loss: 0.5480 - val_accuracy: 0.8431\n",
      "Epoch 55/100\n",
      "242/242 [==============================] - ETA: 0s - loss: 0.2802 - accuracy: 0.9169\n",
      "Epoch 55: val_loss improved from 0.43635 to 0.41944, saving model to ./checkpoints\\training-0055.ckpt\n",
      "242/242 [==============================] - 55s 227ms/step - loss: 0.2802 - accuracy: 0.9169 - val_loss: 0.4194 - val_accuracy: 0.8742\n",
      "Epoch 56/100\n",
      "242/242 [==============================] - ETA: 0s - loss: 0.2762 - accuracy: 0.9166\n",
      "Epoch 56: val_loss did not improve from 0.41944\n",
      "242/242 [==============================] - 56s 230ms/step - loss: 0.2762 - accuracy: 0.9166 - val_loss: 0.6050 - val_accuracy: 0.8245\n",
      "Epoch 57/100\n",
      "242/242 [==============================] - ETA: 0s - loss: 0.2702 - accuracy: 0.9207\n",
      "Epoch 57: val_loss improved from 0.41944 to 0.41488, saving model to ./checkpoints\\training-0057.ckpt\n",
      "242/242 [==============================] - 56s 230ms/step - loss: 0.2702 - accuracy: 0.9207 - val_loss: 0.4149 - val_accuracy: 0.8756\n",
      "Epoch 58/100\n",
      "242/242 [==============================] - ETA: 0s - loss: 0.2632 - accuracy: 0.9248\n",
      "Epoch 58: val_loss did not improve from 0.41488\n",
      "242/242 [==============================] - 56s 229ms/step - loss: 0.2632 - accuracy: 0.9248 - val_loss: 0.4460 - val_accuracy: 0.8693\n",
      "Epoch 59/100\n",
      "242/242 [==============================] - ETA: 0s - loss: 0.2591 - accuracy: 0.9247\n",
      "Epoch 59: val_loss did not improve from 0.41488\n",
      "242/242 [==============================] - 56s 230ms/step - loss: 0.2591 - accuracy: 0.9247 - val_loss: 0.5091 - val_accuracy: 0.8407\n",
      "Epoch 60/100\n",
      "242/242 [==============================] - ETA: 0s - loss: 0.2439 - accuracy: 0.9301\n",
      "Epoch 60: val_loss did not improve from 0.41488\n",
      "242/242 [==============================] - 56s 230ms/step - loss: 0.2439 - accuracy: 0.9301 - val_loss: 0.5585 - val_accuracy: 0.8442\n",
      "Epoch 61/100\n",
      "242/242 [==============================] - ETA: 0s - loss: 0.2506 - accuracy: 0.9287\n",
      "Epoch 61: val_loss improved from 0.41488 to 0.39990, saving model to ./checkpoints\\training-0061.ckpt\n",
      "242/242 [==============================] - 56s 229ms/step - loss: 0.2506 - accuracy: 0.9287 - val_loss: 0.3999 - val_accuracy: 0.8807\n",
      "Epoch 62/100\n",
      "242/242 [==============================] - ETA: 0s - loss: 0.2358 - accuracy: 0.9321\n",
      "Epoch 62: val_loss did not improve from 0.39990\n",
      "242/242 [==============================] - 55s 227ms/step - loss: 0.2358 - accuracy: 0.9321 - val_loss: 0.7860 - val_accuracy: 0.8155\n",
      "Epoch 63/100\n",
      "242/242 [==============================] - ETA: 0s - loss: 0.2385 - accuracy: 0.9322\n",
      "Epoch 63: val_loss did not improve from 0.39990\n",
      "242/242 [==============================] - 56s 229ms/step - loss: 0.2385 - accuracy: 0.9322 - val_loss: 0.4048 - val_accuracy: 0.8825\n",
      "Epoch 64/100\n",
      "242/242 [==============================] - ETA: 0s - loss: 0.2355 - accuracy: 0.9334\n",
      "Epoch 64: val_loss improved from 0.39990 to 0.38641, saving model to ./checkpoints\\training-0064.ckpt\n",
      "242/242 [==============================] - 56s 230ms/step - loss: 0.2355 - accuracy: 0.9334 - val_loss: 0.3864 - val_accuracy: 0.8879\n",
      "Epoch 65/100\n",
      "242/242 [==============================] - ETA: 0s - loss: 0.2280 - accuracy: 0.9356\n",
      "Epoch 65: val_loss did not improve from 0.38641\n",
      "242/242 [==============================] - 55s 225ms/step - loss: 0.2280 - accuracy: 0.9356 - val_loss: 0.4746 - val_accuracy: 0.8589\n",
      "Epoch 66/100\n",
      "242/242 [==============================] - ETA: 0s - loss: 0.2248 - accuracy: 0.9375\n",
      "Epoch 66: val_loss did not improve from 0.38641\n",
      "242/242 [==============================] - 56s 230ms/step - loss: 0.2248 - accuracy: 0.9375 - val_loss: 0.4134 - val_accuracy: 0.8893\n",
      "Epoch 67/100\n",
      "242/242 [==============================] - ETA: 0s - loss: 0.2163 - accuracy: 0.9386\n",
      "Epoch 67: val_loss improved from 0.38641 to 0.37279, saving model to ./checkpoints\\training-0067.ckpt\n",
      "242/242 [==============================] - 56s 230ms/step - loss: 0.2163 - accuracy: 0.9386 - val_loss: 0.3728 - val_accuracy: 0.8900\n",
      "Epoch 68/100\n",
      "242/242 [==============================] - ETA: 0s - loss: 0.2151 - accuracy: 0.9411\n",
      "Epoch 68: val_loss did not improve from 0.37279\n",
      "242/242 [==============================] - 56s 230ms/step - loss: 0.2151 - accuracy: 0.9411 - val_loss: 0.5058 - val_accuracy: 0.8696\n",
      "Epoch 69/100\n",
      "242/242 [==============================] - ETA: 0s - loss: 0.2114 - accuracy: 0.9406\n",
      "Epoch 69: val_loss did not improve from 0.37279\n",
      "242/242 [==============================] - 56s 230ms/step - loss: 0.2114 - accuracy: 0.9406 - val_loss: 0.4302 - val_accuracy: 0.8848\n",
      "Epoch 70/100\n",
      "242/242 [==============================] - ETA: 0s - loss: 0.2054 - accuracy: 0.9430\n",
      "Epoch 70: val_loss did not improve from 0.37279\n",
      "242/242 [==============================] - 56s 230ms/step - loss: 0.2054 - accuracy: 0.9430 - val_loss: 0.3922 - val_accuracy: 0.8912\n",
      "Epoch 71/100\n",
      "242/242 [==============================] - ETA: 0s - loss: 0.2024 - accuracy: 0.9435\n",
      "Epoch 71: val_loss did not improve from 0.37279\n",
      "242/242 [==============================] - 55s 229ms/step - loss: 0.2024 - accuracy: 0.9435 - val_loss: 0.5756 - val_accuracy: 0.8498\n",
      "Epoch 72/100\n",
      "242/242 [==============================] - ETA: 0s - loss: 0.2014 - accuracy: 0.9446\n",
      "Epoch 72: val_loss did not improve from 0.37279\n",
      "242/242 [==============================] - 55s 227ms/step - loss: 0.2014 - accuracy: 0.9446 - val_loss: 0.4143 - val_accuracy: 0.8879\n",
      "Epoch 73/100\n",
      "242/242 [==============================] - ETA: 0s - loss: 0.1929 - accuracy: 0.9475\n",
      "Epoch 73: val_loss improved from 0.37279 to 0.36671, saving model to ./checkpoints\\training-0073.ckpt\n",
      "242/242 [==============================] - 55s 226ms/step - loss: 0.1929 - accuracy: 0.9475 - val_loss: 0.3667 - val_accuracy: 0.9016\n",
      "Epoch 74/100\n",
      "242/242 [==============================] - ETA: 0s - loss: 0.1961 - accuracy: 0.9478\n",
      "Epoch 74: val_loss did not improve from 0.36671\n",
      "242/242 [==============================] - 56s 229ms/step - loss: 0.1961 - accuracy: 0.9478 - val_loss: 0.5075 - val_accuracy: 0.8613\n",
      "Epoch 75/100\n",
      "242/242 [==============================] - ETA: 0s - loss: 0.1914 - accuracy: 0.9481\n",
      "Epoch 75: val_loss did not improve from 0.36671\n",
      "242/242 [==============================] - 56s 230ms/step - loss: 0.1914 - accuracy: 0.9481 - val_loss: 0.4374 - val_accuracy: 0.8779\n",
      "Epoch 76/100\n",
      "242/242 [==============================] - ETA: 0s - loss: 0.1933 - accuracy: 0.9473\n",
      "Epoch 76: val_loss did not improve from 0.36671\n",
      "242/242 [==============================] - 56s 230ms/step - loss: 0.1933 - accuracy: 0.9473 - val_loss: 0.6710 - val_accuracy: 0.8565\n",
      "Epoch 77/100\n",
      "242/242 [==============================] - ETA: 0s - loss: 0.1814 - accuracy: 0.9502\n",
      "Epoch 77: val_loss did not improve from 0.36671\n",
      "242/242 [==============================] - 56s 230ms/step - loss: 0.1814 - accuracy: 0.9502 - val_loss: 0.5640 - val_accuracy: 0.8732\n",
      "Epoch 78/100\n",
      "242/242 [==============================] - ETA: 0s - loss: 0.1806 - accuracy: 0.9514\n",
      "Epoch 78: val_loss did not improve from 0.36671\n",
      "242/242 [==============================] - 56s 230ms/step - loss: 0.1806 - accuracy: 0.9514 - val_loss: 0.3835 - val_accuracy: 0.8882\n",
      "Epoch 79/100\n",
      "242/242 [==============================] - ETA: 0s - loss: 0.1771 - accuracy: 0.9537\n",
      "Epoch 79: val_loss improved from 0.36671 to 0.34461, saving model to ./checkpoints\\training-0079.ckpt\n",
      "242/242 [==============================] - 56s 230ms/step - loss: 0.1771 - accuracy: 0.9537 - val_loss: 0.3446 - val_accuracy: 0.9091\n",
      "Epoch 80/100\n",
      "242/242 [==============================] - ETA: 0s - loss: 0.1794 - accuracy: 0.9524\n",
      "Epoch 80: val_loss did not improve from 0.34461\n",
      "242/242 [==============================] - 56s 230ms/step - loss: 0.1794 - accuracy: 0.9524 - val_loss: 0.4062 - val_accuracy: 0.8984\n",
      "Epoch 81/100\n",
      "242/242 [==============================] - ETA: 0s - loss: 0.1764 - accuracy: 0.9549\n",
      "Epoch 81: val_loss did not improve from 0.34461\n",
      "242/242 [==============================] - 56s 230ms/step - loss: 0.1764 - accuracy: 0.9549 - val_loss: 0.4227 - val_accuracy: 0.8893\n",
      "Epoch 82/100\n",
      "242/242 [==============================] - ETA: 0s - loss: 0.1744 - accuracy: 0.9543\n",
      "Epoch 82: val_loss did not improve from 0.34461\n",
      "242/242 [==============================] - 55s 228ms/step - loss: 0.1744 - accuracy: 0.9543 - val_loss: 0.3769 - val_accuracy: 0.8924\n",
      "Epoch 83/100\n",
      "242/242 [==============================] - ETA: 0s - loss: 0.1679 - accuracy: 0.9565\n",
      "Epoch 83: val_loss did not improve from 0.34461\n",
      "242/242 [==============================] - 56s 230ms/step - loss: 0.1679 - accuracy: 0.9565 - val_loss: 0.4285 - val_accuracy: 0.8855\n",
      "Epoch 84/100\n",
      "242/242 [==============================] - ETA: 0s - loss: 0.1718 - accuracy: 0.9554\n",
      "Epoch 84: val_loss did not improve from 0.34461\n",
      "242/242 [==============================] - 56s 230ms/step - loss: 0.1718 - accuracy: 0.9554 - val_loss: 0.6982 - val_accuracy: 0.8424\n",
      "Epoch 85/100\n",
      "242/242 [==============================] - ETA: 0s - loss: 0.1628 - accuracy: 0.9573\n",
      "Epoch 85: val_loss did not improve from 0.34461\n",
      "242/242 [==============================] - 56s 230ms/step - loss: 0.1628 - accuracy: 0.9573 - val_loss: 0.3854 - val_accuracy: 0.8936\n",
      "Epoch 86/100\n",
      "242/242 [==============================] - ETA: 0s - loss: 0.1646 - accuracy: 0.9592\n",
      "Epoch 86: val_loss improved from 0.34461 to 0.33100, saving model to ./checkpoints\\training-0086.ckpt\n",
      "242/242 [==============================] - 56s 230ms/step - loss: 0.1646 - accuracy: 0.9592 - val_loss: 0.3310 - val_accuracy: 0.9115\n",
      "Epoch 87/100\n",
      "242/242 [==============================] - ETA: 0s - loss: 0.1603 - accuracy: 0.9587\n",
      "Epoch 87: val_loss did not improve from 0.33100\n",
      "242/242 [==============================] - 56s 229ms/step - loss: 0.1603 - accuracy: 0.9587 - val_loss: 0.3875 - val_accuracy: 0.9055\n",
      "Epoch 88/100\n",
      "242/242 [==============================] - ETA: 0s - loss: 0.1571 - accuracy: 0.9607\n",
      "Epoch 88: val_loss did not improve from 0.33100\n",
      "242/242 [==============================] - 55s 228ms/step - loss: 0.1571 - accuracy: 0.9607 - val_loss: 0.6237 - val_accuracy: 0.8526\n",
      "Epoch 89/100\n",
      "242/242 [==============================] - ETA: 0s - loss: 0.1559 - accuracy: 0.9605\n",
      "Epoch 89: val_loss did not improve from 0.33100\n",
      "242/242 [==============================] - 55s 227ms/step - loss: 0.1559 - accuracy: 0.9605 - val_loss: 0.4790 - val_accuracy: 0.8736\n",
      "Epoch 90/100\n",
      "242/242 [==============================] - ETA: 0s - loss: 0.1525 - accuracy: 0.9615\n",
      "Epoch 90: val_loss did not improve from 0.33100\n",
      "242/242 [==============================] - 56s 229ms/step - loss: 0.1525 - accuracy: 0.9615 - val_loss: 0.4083 - val_accuracy: 0.8909\n",
      "Epoch 91/100\n",
      "242/242 [==============================] - ETA: 0s - loss: 0.1542 - accuracy: 0.9621\n",
      "Epoch 91: val_loss did not improve from 0.33100\n",
      "242/242 [==============================] - 56s 230ms/step - loss: 0.1542 - accuracy: 0.9621 - val_loss: 0.4070 - val_accuracy: 0.8911\n",
      "Epoch 92/100\n",
      "242/242 [==============================] - ETA: 0s - loss: 0.1491 - accuracy: 0.9630\n",
      "Epoch 92: val_loss did not improve from 0.33100\n",
      "242/242 [==============================] - 56s 230ms/step - loss: 0.1491 - accuracy: 0.9630 - val_loss: 0.6000 - val_accuracy: 0.8780\n",
      "Epoch 93/100\n",
      "242/242 [==============================] - ETA: 0s - loss: 0.1487 - accuracy: 0.9631\n",
      "Epoch 93: val_loss did not improve from 0.33100\n",
      "242/242 [==============================] - 55s 229ms/step - loss: 0.1487 - accuracy: 0.9631 - val_loss: 0.4146 - val_accuracy: 0.8867\n",
      "Epoch 94/100\n",
      "242/242 [==============================] - ETA: 0s - loss: 0.1486 - accuracy: 0.9639\n",
      "Epoch 94: val_loss did not improve from 0.33100\n",
      "242/242 [==============================] - 56s 230ms/step - loss: 0.1486 - accuracy: 0.9639 - val_loss: 0.4143 - val_accuracy: 0.9010\n",
      "Epoch 95/100\n",
      "242/242 [==============================] - ETA: 0s - loss: 0.1476 - accuracy: 0.9634\n",
      "Epoch 95: val_loss did not improve from 0.33100\n",
      "242/242 [==============================] - 56s 230ms/step - loss: 0.1476 - accuracy: 0.9634 - val_loss: 0.5955 - val_accuracy: 0.8753\n",
      "Epoch 96/100\n",
      "242/242 [==============================] - ETA: 0s - loss: 0.1470 - accuracy: 0.9648\n",
      "Epoch 96: val_loss did not improve from 0.33100\n",
      "242/242 [==============================] - 56s 230ms/step - loss: 0.1470 - accuracy: 0.9648 - val_loss: 0.3610 - val_accuracy: 0.9056\n",
      "Epoch 97/100\n",
      "242/242 [==============================] - ETA: 0s - loss: 0.1378 - accuracy: 0.9671\n",
      "Epoch 97: val_loss did not improve from 0.33100\n",
      "242/242 [==============================] - 55s 229ms/step - loss: 0.1378 - accuracy: 0.9671 - val_loss: 0.3621 - val_accuracy: 0.9141\n",
      "Epoch 98/100\n",
      "242/242 [==============================] - ETA: 0s - loss: 0.1411 - accuracy: 0.9650\n",
      "Epoch 98: val_loss improved from 0.33100 to 0.32573, saving model to ./checkpoints\\training-0098.ckpt\n",
      "242/242 [==============================] - 56s 230ms/step - loss: 0.1411 - accuracy: 0.9650 - val_loss: 0.3257 - val_accuracy: 0.9178\n",
      "Epoch 99/100\n",
      "242/242 [==============================] - ETA: 0s - loss: 0.1360 - accuracy: 0.9675\n",
      "Epoch 99: val_loss did not improve from 0.32573\n",
      "242/242 [==============================] - 55s 228ms/step - loss: 0.1360 - accuracy: 0.9675 - val_loss: 0.3867 - val_accuracy: 0.9053\n",
      "Epoch 100/100\n",
      "242/242 [==============================] - ETA: 0s - loss: 0.1396 - accuracy: 0.9663\n",
      "Epoch 100: val_loss did not improve from 0.32573\n",
      "242/242 [==============================] - 56s 229ms/step - loss: 0.1396 - accuracy: 0.9663 - val_loss: 0.3549 - val_accuracy: 0.9147\n"
     ]
    }
   ],
   "source": [
    "checkpoint_path = \"./checkpoints/training-{epoch:04d}.ckpt\"\n",
    "save_callback = ModelCheckpoint(filepath=checkpoint_path,\n",
    "                                save_best_only=True,\n",
    "                                save_weights_only=True,\n",
    "                                verbose=1)\n",
    "\n",
    "history = buzznet_model.fit(train_gen,\n",
    "                            validation_data=val_gen,\n",
    "                            epochs=100,\n",
    "                            initial_epoch=0,\n",
    "                            callbacks=[save_callback])"
   ]
  },
  {
   "cell_type": "markdown",
   "metadata": {},
   "source": [
    "## Evaluate Model"
   ]
  },
  {
   "cell_type": "markdown",
   "metadata": {},
   "source": [
    "### Model Evaluation on the validation set"
   ]
  },
  {
   "cell_type": "code",
   "execution_count": 15,
   "metadata": {
    "colab": {
     "base_uri": "https://localhost:8080/"
    },
    "id": "1PSs2bcsF9va",
    "outputId": "14abb796-be90-4770-d233-87aba867448c",
    "scrolled": true
   },
   "outputs": [
    {
     "name": "stdout",
     "output_type": "stream",
     "text": [
      "52/52 [==============================] - 10s 187ms/step - loss: 0.3536 - accuracy: 0.9150\n",
      "Loss on validation set: 0.35358157753944397\n",
      "Accuracy on validation set: 0.914963960647583\n"
     ]
    }
   ],
   "source": [
    "val_loss, val_accuracy = buzznet_model.evaluate(val_gen)\n",
    "\n",
    "print(\"Loss on validation set:\", val_loss)\n",
    "print(\"Accuracy on validation set:\", val_accuracy)"
   ]
  },
  {
   "cell_type": "code",
   "execution_count": 34,
   "metadata": {
    "colab": {
     "base_uri": "https://localhost:8080/",
     "height": 295
    },
    "id": "gPMKotUQhETT",
    "outputId": "ebb88c03-d780-4496-8e27-d86d4b80ea66",
    "scrolled": false
   },
   "outputs": [
    {
     "data": {
      "image/png": "[encoded data removed]",
      "text/plain": [
       "<Figure size 640x480 with 1 Axes>"
      ]
     },
     "metadata": {},
     "output_type": "display_data"
    }
   ],
   "source": [
    "import matplotlib.pyplot as plt\n",
    "\n",
    "plt.plot(history.history['accuracy'])\n",
    "plt.plot(history.history['val_accuracy'])\n",
    "plt.title('Model accuracy over epochs')\n",
    "plt.ylabel('Accuracy')\n",
    "plt.xlabel('Epoch')\n",
    "plt.legend(['train', 'val'], loc='upper left')\n",
    "plt.savefig('D:/BuzzNet/result/' + 'validation_accuracy.png', bbox_inches='tight', dpi=900)\n",
    "plt.show()\n"
   ]
  },
  {
   "cell_type": "markdown",
   "metadata": {
    "id": "FT_H0-rpxuF3"
   },
   "source": [
    "### Confusion matrix and metrics"
   ]
  },
  {
   "cell_type": "code",
   "execution_count": 17,
   "metadata": {
    "id": "XrsRyjaxs8B7"
   },
   "outputs": [
    {
     "name": "stdout",
     "output_type": "stream",
     "text": [
      "208/208 [==============================] - 3s 11ms/step\n"
     ]
    }
   ],
   "source": [
    "nb_batches = len(val_gen)\n",
    "X_val = np.empty((nb_batches, batch_size, frame_length, 1))\n",
    "y_val = np.empty((nb_batches, batch_size))\n",
    "\n",
    "for i in range(nb_batches):\n",
    "    X_val[i], y_val[i] = val_gen.__getitem__(i)\n",
    "\n",
    "X_val = X_val.reshape((nb_batches * batch_size, -1))\n",
    "y_val = y_val.reshape(nb_batches * batch_size)\n",
    "\n",
    "y_val_actual = np.argmax(buzznet_model.predict(X_val), axis=-1)"
   ]
  },
  {
   "cell_type": "code",
   "execution_count": 18,
   "metadata": {
    "colab": {
     "base_uri": "https://localhost:8080/"
    },
    "id": "rIVtpDSlwWQq",
    "outputId": "3778673c-658c-49df-8be3-6c54a63041af"
   },
   "outputs": [
    {
     "name": "stdout",
     "output_type": "stream",
     "text": [
      "Precision: 0.9121208996223931\n",
      "Recall: 0.9131174236283601\n",
      "F1 score: 0.9121410804840052\n"
     ]
    }
   ],
   "source": [
    "from sklearn.metrics import precision_recall_fscore_support\n",
    "\n",
    "p, r, f1, _ = precision_recall_fscore_support(y_val,\n",
    "                                              y_val_actual,\n",
    "                                              average='macro',\n",
    "                                              zero_division=0)\n",
    "\n",
    "print(\"Precision:\", p)\n",
    "print(\"Recall:\", r)\n",
    "print(\"F1 score:\", f1)"
   ]
  },
  {
   "cell_type": "code",
   "execution_count": 31,
   "metadata": {
    "colab": {
     "base_uri": "https://localhost:8080/",
     "height": 626
    },
    "id": "eRAvRfgGzLij",
    "outputId": "a2ba3e46-4630-4791-c16b-90ce125a5aa3"
   },
   "outputs": [
    {
     "data": {
      "image/png": "[encoded data removed]",
      "text/plain": [
       "<Figure size 400x400 with 1 Axes>"
      ]
     },
     "metadata": {},
     "output_type": "display_data"
    }
   ],
   "source": [
    "from sklearn.metrics import confusion_matrix\n",
    "from mlxtend.plotting import plot_confusion_matrix\n",
    "\n",
    "cm = confusion_matrix(y_val, y_val_actual)\n",
    "\n",
    "plot_confusion_matrix(cm,\n",
    "                      show_normed=True,\n",
    "                      show_absolute=False,\n",
    "                      figsize=(4, 4),\n",
    "                      class_names=['an coustani', 'an squamosus', 'ma africanus', 'ma uniformis'],\n",
    "                      hide_ticks=False)\n",
    "plt.savefig('D:/BuzzNet/result/' + 'confusionMatrix.png', bbox_inches='tight', dpi=900)"
   ]
  },
  {
   "cell_type": "markdown",
   "metadata": {},
   "source": [
    "### Model Evaluation on the test set"
   ]
  },
  {
   "cell_type": "code",
   "execution_count": 20,
   "metadata": {
    "colab": {
     "base_uri": "https://localhost:8080/"
    },
    "id": "1PSs2bcsF9va",
    "outputId": "14abb796-be90-4770-d233-87aba867448c",
    "scrolled": true
   },
   "outputs": [
    {
     "name": "stdout",
     "output_type": "stream",
     "text": [
      "52/52 [==============================] - 10s 185ms/step - loss: 0.3933 - accuracy: 0.9013\n",
      "Loss on Test set: 0.39328324794769287\n",
      "Accuracy on Test set: 0.901292085647583\n"
     ]
    }
   ],
   "source": [
    "test_loss, test_accuracy = buzznet_model.evaluate(test_gen)\n",
    "\n",
    "print(\"Loss on Test set:\", test_loss)\n",
    "print(\"Accuracy on Test set:\", test_accuracy)"
   ]
  },
  {
   "cell_type": "code",
   "execution_count": 35,
   "metadata": {},
   "outputs": [
    {
     "data": {
      "image/png": "[encoded data removed]",
      "text/plain": [
       "<Figure size 640x480 with 1 Axes>"
      ]
     },
     "metadata": {},
     "output_type": "display_data"
    }
   ],
   "source": [
    "train_accuracy = history.history['accuracy']\n",
    "val_accuracy = history.history['val_accuracy']\n",
    "\n",
    "# Create a range of epochs for x-axis\n",
    "epochs = range(1, len(train_accuracy) + 1)\n",
    "\n",
    "# Plot training, validation, and test accuracy\n",
    "plt.plot(epochs, train_accuracy, 'b', label='Training Accuracy')\n",
    "plt.plot(epochs, val_accuracy, 'r', label='Validation Accuracy')\n",
    "plt.axhline(y=test_accuracy, color='g', linestyle='--', label='Test Accuracy')\n",
    "plt.title('Model accuracy over epochs')\n",
    "plt.xlabel('Epochs')\n",
    "plt.ylabel('Accuracy')\n",
    "plt.legend()\n",
    "plt.savefig('D:/BuzzNet/result/' + 'test_accuracy.png', bbox_inches='tight', dpi=900)\n",
    "plt.show()"
   ]
  },
  {
   "cell_type": "code",
   "execution_count": null,
   "metadata": {},
   "outputs": [],
   "source": []
  }
 ],
 "metadata": {
  "colab": {
   "collapsed_sections": [
    "iO83HnXSCvV9",
    "rS6FKCCyCzjF",
    "GRH6HmKrJO2g",
    "PzQbs6D3I7na",
    "LH6iTlsLJDCv",
    "JR8VsZs7JXk3",
    "f7gwrKJxJao5",
    "G9IPXvMMVy7P",
    "FT_H0-rpxuF3",
    "MQDjMsB05P2z",
    "y14jMnhhuD_J"
   ],
   "name": "keras-sincnet.ipynb",
   "provenance": []
  },
  "kernelspec": {
   "display_name": "Python 3.7 (tensorflow)",
   "language": "python",
   "name": "tf"
  },
  "language_info": {
   "codemirror_mode": {
    "name": "ipython",
    "version": 3
   },
   "file_extension": ".py",
   "mimetype": "text/x-python",
   "name": "python",
   "nbconvert_exporter": "python",
   "pygments_lexer": "ipython3",
   "version": "3.8.16"
  }
 },
 "nbformat": 4,
 "nbformat_minor": 1
}
